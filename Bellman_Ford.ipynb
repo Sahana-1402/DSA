{
  "nbformat": 4,
  "nbformat_minor": 0,
  "metadata": {
    "colab": {
      "provenance": []
    },
    "kernelspec": {
      "name": "python3",
      "display_name": "Python 3"
    },
    "language_info": {
      "name": "python"
    }
  },
  "cells": [
    {
      "cell_type": "markdown",
      "source": [
        "Bellman Ford algorithm for finding the shortest distance from single source implementation.\n",
        "\n",
        "It handles negative edge weights (where dijkstra's alrogithm failed), and to detect the presence of negative cyclic graph"
      ],
      "metadata": {
        "id": "RJYyfVuNv6GE"
      }
    },
    {
      "cell_type": "code",
      "execution_count": 3,
      "metadata": {
        "colab": {
          "base_uri": "https://localhost:8080/"
        },
        "id": "Zpz5WTiyvuKk",
        "outputId": "365ed419-8f78-4582-9980-9743441ef65b"
      },
      "outputs": [
        {
          "output_type": "stream",
          "name": "stdout",
          "text": [
            "defaultdict(None, {1: 0, 2: 1, 3: 3, 4: 5, 5: 0, 6: 4, 7: 3})\n"
          ]
        }
      ],
      "source": [
        "from collections import defaultdict\n",
        "\n",
        "# defining graph class\n",
        "class Graph:\n",
        "  def __init__(self, vertices):\n",
        "    self.V = vertices\n",
        "    self.graph = []\n",
        "\n",
        "  def addEdge(self, u, v, w):\n",
        "    self.graph.append([u, v, w])\n",
        "\n",
        "  # method defination\n",
        "  def bellman(self, source):\n",
        "    distances = defaultdict()\n",
        "    nodes = set()\n",
        "\n",
        "    for u, v, w in self.graph:\n",
        "      nodes.add(u)\n",
        "      nodes.add(v)\n",
        "\n",
        "    #initializing infinity value to all nodes, and zero to source node\n",
        "    for node in nodes:\n",
        "      distances[node] = float('inf')\n",
        "    distances[source] = 0\n",
        "\n",
        "    #iterating V-1 times\n",
        "    for _ in range(self.V-1):\n",
        "      for u,v,w in self.graph:\n",
        "        # relaxation\n",
        "        if distances[u] != float('inf') and distances[u] + w < distances[v]:\n",
        "          distances[v] = distances[u] + w\n",
        "\n",
        "    # last iteration to detect cycle\n",
        "    for u, v, w in self.graph:\n",
        "       if distances[u] != float('inf') and distances[u] + w < distances[v]:\n",
        "        print(\"Negative weight cycle detected\")\n",
        "        return\n",
        "\n",
        "    return distances\n",
        "\n",
        "# Driver code\n",
        "g =  Graph(7)\n",
        "g.addEdge(1, 2, 6)\n",
        "g.addEdge(1, 3, 5)\n",
        "g.addEdge(1, 4, 5)\n",
        "g.addEdge(2, 5, -1)\n",
        "g.addEdge(3, 2, -2)\n",
        "g.addEdge(3, 5, 1)\n",
        "g.addEdge(4, 3, -2)\n",
        "g.addEdge(4, 6, -1)\n",
        "g.addEdge(5, 7, 3)\n",
        "g.addEdge(6, 7, 3)\n",
        "\n",
        "print(g.bellman(1))"
      ]
    }
  ]
}